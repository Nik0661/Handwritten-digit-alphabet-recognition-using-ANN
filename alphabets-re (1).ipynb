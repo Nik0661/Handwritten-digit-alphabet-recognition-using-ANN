{
 "cells": [
  {
   "cell_type": "code",
   "execution_count": 1,
   "metadata": {
    "_cell_guid": "b1076dfc-b9ad-4769-8c92-a6c4dae69d19",
    "_uuid": "8f2839f25d086af736a60e9eeb907d3b93b6e0e5",
    "execution": {
     "iopub.execute_input": "2021-08-27T18:30:41.856512Z",
     "iopub.status.busy": "2021-08-27T18:30:41.855972Z",
     "iopub.status.idle": "2021-08-27T18:30:41.870726Z",
     "shell.execute_reply": "2021-08-27T18:30:41.869615Z",
     "shell.execute_reply.started": "2021-08-27T18:30:41.856381Z"
    }
   },
   "outputs": [],
   "source": [
    "import numpy as np\n",
    "import pandas as pd\n"
   ]
  },
  {
   "cell_type": "code",
   "execution_count": 2,
   "metadata": {
    "execution": {
     "iopub.execute_input": "2021-08-27T18:30:41.873227Z",
     "iopub.status.busy": "2021-08-27T18:30:41.872469Z",
     "iopub.status.idle": "2021-08-27T18:31:12.066652Z",
     "shell.execute_reply": "2021-08-27T18:31:12.065734Z",
     "shell.execute_reply.started": "2021-08-27T18:30:41.873183Z"
    }
   },
   "outputs": [],
   "source": [
    "df = pd.read_csv('../input/az-handwritten-alphabets-in-csv-format/A_Z Handwritten Data.csv')"
   ]
  },
  {
   "cell_type": "code",
   "execution_count": 3,
   "metadata": {
    "execution": {
     "iopub.execute_input": "2021-08-27T18:31:12.068793Z",
     "iopub.status.busy": "2021-08-27T18:31:12.068433Z",
     "iopub.status.idle": "2021-08-27T18:31:12.811812Z",
     "shell.execute_reply": "2021-08-27T18:31:12.810895Z",
     "shell.execute_reply.started": "2021-08-27T18:31:12.068763Z"
    }
   },
   "outputs": [],
   "source": [
    "from sklearn.model_selection import train_test_split"
   ]
  },
  {
   "cell_type": "code",
   "execution_count": 4,
   "metadata": {
    "execution": {
     "iopub.execute_input": "2021-08-27T18:31:12.815548Z",
     "iopub.status.busy": "2021-08-27T18:31:12.815272Z",
     "iopub.status.idle": "2021-08-27T18:31:13.801884Z",
     "shell.execute_reply": "2021-08-27T18:31:13.800853Z",
     "shell.execute_reply.started": "2021-08-27T18:31:12.815521Z"
    }
   },
   "outputs": [],
   "source": [
    "x = df.iloc[:,1:]\n",
    "y= df['0']\n",
    "x=x/255"
   ]
  },
  {
   "cell_type": "code",
   "execution_count": 5,
   "metadata": {
    "execution": {
     "iopub.execute_input": "2021-08-27T18:31:13.803424Z",
     "iopub.status.busy": "2021-08-27T18:31:13.803081Z",
     "iopub.status.idle": "2021-08-27T18:31:16.333754Z",
     "shell.execute_reply": "2021-08-27T18:31:16.332831Z",
     "shell.execute_reply.started": "2021-08-27T18:31:13.803384Z"
    }
   },
   "outputs": [],
   "source": [
    "X_train,X_test,y_train,y_test = train_test_split(x,y,test_size=0.3)"
   ]
  },
  {
   "cell_type": "code",
   "execution_count": 18,
   "metadata": {
    "execution": {
     "iopub.execute_input": "2021-08-27T18:34:54.883039Z",
     "iopub.status.busy": "2021-08-27T18:34:54.882688Z",
     "iopub.status.idle": "2021-08-27T18:34:54.901112Z",
     "shell.execute_reply": "2021-08-27T18:34:54.900119Z",
     "shell.execute_reply.started": "2021-08-27T18:34:54.883006Z"
    }
   },
   "outputs": [],
   "source": []
  },
  {
   "cell_type": "code",
   "execution_count": 6,
   "metadata": {
    "execution": {
     "iopub.execute_input": "2021-08-27T18:31:16.335425Z",
     "iopub.status.busy": "2021-08-27T18:31:16.335050Z",
     "iopub.status.idle": "2021-08-27T18:31:20.724579Z",
     "shell.execute_reply": "2021-08-27T18:31:20.723677Z",
     "shell.execute_reply.started": "2021-08-27T18:31:16.335386Z"
    }
   },
   "outputs": [],
   "source": [
    "from tensorflow.keras.models import Sequential\n",
    "from tensorflow.keras.layers import Dense"
   ]
  },
  {
   "cell_type": "code",
   "execution_count": 7,
   "metadata": {
    "execution": {
     "iopub.execute_input": "2021-08-27T18:31:20.726343Z",
     "iopub.status.busy": "2021-08-27T18:31:20.725964Z",
     "iopub.status.idle": "2021-08-27T18:31:20.732182Z",
     "shell.execute_reply": "2021-08-27T18:31:20.731001Z",
     "shell.execute_reply.started": "2021-08-27T18:31:20.726306Z"
    }
   },
   "outputs": [],
   "source": [
    "img = np.array(x.iloc[77399]).reshape(28,28)\n"
   ]
  },
  {
   "cell_type": "code",
   "execution_count": 8,
   "metadata": {
    "execution": {
     "iopub.execute_input": "2021-08-27T18:31:20.735365Z",
     "iopub.status.busy": "2021-08-27T18:31:20.734927Z",
     "iopub.status.idle": "2021-08-27T18:31:20.910320Z",
     "shell.execute_reply": "2021-08-27T18:31:20.909469Z",
     "shell.execute_reply.started": "2021-08-27T18:31:20.735325Z"
    }
   },
   "outputs": [
    {
     "data": {
      "text/plain": [
       "<matplotlib.image.AxesImage at 0x7fd431406750>"
      ]
     },
     "execution_count": 8,
     "metadata": {},
     "output_type": "execute_result"
    },
    {
     "data": {
      "image/png": "[encoded data removed]",
      "text/plain": [
       "<Figure size 432x288 with 1 Axes>"
      ]
     },
     "metadata": {
      "needs_background": "light"
     },
     "output_type": "display_data"
    }
   ],
   "source": [
    "import matplotlib.pyplot as plt\n",
    "plt.imshow(img)\n"
   ]
  },
  {
   "cell_type": "code",
   "execution_count": 9,
   "metadata": {
    "execution": {
     "iopub.execute_input": "2021-08-27T18:31:20.913407Z",
     "iopub.status.busy": "2021-08-27T18:31:20.912872Z",
     "iopub.status.idle": "2021-08-27T18:31:20.920457Z",
     "shell.execute_reply": "2021-08-27T18:31:20.919609Z",
     "shell.execute_reply.started": "2021-08-27T18:31:20.913364Z"
    }
   },
   "outputs": [
    {
     "data": {
      "text/plain": [
       "7"
      ]
     },
     "execution_count": 9,
     "metadata": {},
     "output_type": "execute_result"
    }
   ],
   "source": [
    "y.iloc[77300]"
   ]
  },
  {
   "cell_type": "code",
   "execution_count": null,
   "metadata": {},
   "outputs": [],
   "source": [
    "#To Save Ram Space\n",
    "df,x,y=0,0,0"
   ]
  },
  {
   "cell_type": "markdown",
   "metadata": {},
   "source": [
    "# Using ANN"
   ]
  },
  {
   "cell_type": "code",
   "execution_count": 10,
   "metadata": {
    "execution": {
     "iopub.execute_input": "2021-08-27T18:31:20.922322Z",
     "iopub.status.busy": "2021-08-27T18:31:20.921918Z",
     "iopub.status.idle": "2021-08-27T18:31:20.929116Z",
     "shell.execute_reply": "2021-08-27T18:31:20.928256Z",
     "shell.execute_reply.started": "2021-08-27T18:31:20.922280Z"
    }
   },
   "outputs": [],
   "source": [
    "from tensorflow.keras.utils import to_categorical "
   ]
  },
  {
   "cell_type": "code",
   "execution_count": 11,
   "metadata": {
    "execution": {
     "iopub.execute_input": "2021-08-27T18:31:20.931132Z",
     "iopub.status.busy": "2021-08-27T18:31:20.930563Z",
     "iopub.status.idle": "2021-08-27T18:31:20.951009Z",
     "shell.execute_reply": "2021-08-27T18:31:20.950050Z",
     "shell.execute_reply.started": "2021-08-27T18:31:20.931032Z"
    }
   },
   "outputs": [],
   "source": [
    "y_train = to_categorical(y_train,num_classes=26)\n",
    "y_test = to_categorical(y_test,num_classes=26)"
   ]
  },
  {
   "cell_type": "code",
   "execution_count": null,
   "metadata": {},
   "outputs": [],
   "source": []
  },
  {
   "cell_type": "code",
   "execution_count": 12,
   "metadata": {
    "execution": {
     "iopub.execute_input": "2021-08-27T18:31:20.952775Z",
     "iopub.status.busy": "2021-08-27T18:31:20.952363Z",
     "iopub.status.idle": "2021-08-27T18:31:22.693424Z",
     "shell.execute_reply": "2021-08-27T18:31:22.692552Z",
     "shell.execute_reply.started": "2021-08-27T18:31:20.952731Z"
    }
   },
   "outputs": [],
   "source": [
    "model_ann = Sequential()\n",
    "model_ann.add(Dense(104,input_shape=(784,)))\n",
    "model_ann.add(Dense(52,activation='relu'))\n",
    "model_ann.add(Dense(26,activation='softmax'))"
   ]
  },
  {
   "cell_type": "code",
   "execution_count": 13,
   "metadata": {
    "execution": {
     "iopub.execute_input": "2021-08-27T18:31:22.697040Z",
     "iopub.status.busy": "2021-08-27T18:31:22.696738Z",
     "iopub.status.idle": "2021-08-27T18:31:22.704729Z",
     "shell.execute_reply": "2021-08-27T18:31:22.703805Z",
     "shell.execute_reply.started": "2021-08-27T18:31:22.697012Z"
    }
   },
   "outputs": [
    {
     "name": "stdout",
     "output_type": "stream",
     "text": [
      "Model: \"sequential\"\n",
      "_________________________________________________________________\n",
      "Layer (type)                 Output Shape              Param #   \n",
      "=================================================================\n",
      "dense (Dense)                (None, 104)               81640     \n",
      "_________________________________________________________________\n",
      "dense_1 (Dense)              (None, 52)                5460      \n",
      "_________________________________________________________________\n",
      "dense_2 (Dense)              (None, 26)                1378      \n",
      "=================================================================\n",
      "Total params: 88,478\n",
      "Trainable params: 88,478\n",
      "Non-trainable params: 0\n",
      "_________________________________________________________________\n"
     ]
    }
   ],
   "source": [
    "model_ann.summary()"
   ]
  },
  {
   "cell_type": "code",
   "execution_count": 14,
   "metadata": {
    "execution": {
     "iopub.execute_input": "2021-08-27T18:31:22.706779Z",
     "iopub.status.busy": "2021-08-27T18:31:22.706207Z",
     "iopub.status.idle": "2021-08-27T18:31:22.727064Z",
     "shell.execute_reply": "2021-08-27T18:31:22.726069Z",
     "shell.execute_reply.started": "2021-08-27T18:31:22.706734Z"
    }
   },
   "outputs": [],
   "source": [
    "model_ann.compile(loss='categorical_crossentropy',    metrics=['accuracy'])"
   ]
  },
  {
   "cell_type": "code",
   "execution_count": 15,
   "metadata": {
    "execution": {
     "iopub.execute_input": "2021-08-27T18:31:22.728903Z",
     "iopub.status.busy": "2021-08-27T18:31:22.728492Z",
     "iopub.status.idle": "2021-08-27T18:32:20.909435Z",
     "shell.execute_reply": "2021-08-27T18:32:20.908618Z",
     "shell.execute_reply.started": "2021-08-27T18:31:22.728865Z"
    }
   },
   "outputs": [
    {
     "name": "stdout",
     "output_type": "stream",
     "text": [
      "Epoch 1/5\n",
      "4074/4074 [==============================] - 12s 3ms/step - loss: 0.6252 - accuracy: 0.8308\n",
      "Epoch 2/5\n",
      "4074/4074 [==============================] - 11s 3ms/step - loss: 0.2408 - accuracy: 0.9346\n",
      "Epoch 3/5\n",
      "4074/4074 [==============================] - 11s 3ms/step - loss: 0.2021 - accuracy: 0.9460\n",
      "Epoch 4/5\n",
      "4074/4074 [==============================] - 11s 3ms/step - loss: 0.1866 - accuracy: 0.9504\n",
      "Epoch 5/5\n",
      "4074/4074 [==============================] - 11s 3ms/step - loss: 0.1740 - accuracy: 0.9538\n"
     ]
    },
    {
     "data": {
      "text/plain": [
       "<tensorflow.python.keras.callbacks.History at 0x7fd42b028710>"
      ]
     },
     "execution_count": 15,
     "metadata": {},
     "output_type": "execute_result"
    }
   ],
   "source": [
    "model_ann.fit(X_train,y_train,batch_size=64,\n",
    "    epochs=5)"
   ]
  },
  {
   "cell_type": "markdown",
   "metadata": {},
   "source": [
    "# Test Data"
   ]
  },
  {
   "cell_type": "code",
   "execution_count": 19,
   "metadata": {
    "execution": {
     "iopub.execute_input": "2021-08-27T18:37:28.883566Z",
     "iopub.status.busy": "2021-08-27T18:37:28.883207Z",
     "iopub.status.idle": "2021-08-27T18:37:36.742040Z",
     "shell.execute_reply": "2021-08-27T18:37:36.741196Z",
     "shell.execute_reply.started": "2021-08-27T18:37:28.883530Z"
    }
   },
   "outputs": [
    {
     "name": "stdout",
     "output_type": "stream",
     "text": [
      "3492/3492 [==============================] - 7s 2ms/step - loss: 0.1914 - accuracy: 0.9530\n"
     ]
    },
    {
     "data": {
      "text/plain": [
       "[0.19143939018249512, 0.9529690742492676]"
      ]
     },
     "execution_count": 19,
     "metadata": {},
     "output_type": "execute_result"
    }
   ],
   "source": [
    "model_ann.evaluate(X_test,y_test)"
   ]
  },
  {
   "cell_type": "code",
   "execution_count": 20,
   "metadata": {
    "execution": {
     "iopub.execute_input": "2021-08-27T18:40:15.614736Z",
     "iopub.status.busy": "2021-08-27T18:40:15.614327Z",
     "iopub.status.idle": "2021-08-27T18:40:15.641918Z",
     "shell.execute_reply": "2021-08-27T18:40:15.640941Z",
     "shell.execute_reply.started": "2021-08-27T18:40:15.614699Z"
    }
   },
   "outputs": [],
   "source": [
    "model_ann.save('model_ann.h5')"
   ]
  },
  {
   "cell_type": "code",
   "execution_count": null,
   "metadata": {},
   "outputs": [],
   "source": []
  },
  {
   "cell_type": "code",
   "execution_count": null,
   "metadata": {},
   "outputs": [],
   "source": []
  }
 ],
 "metadata": {
  "kernelspec": {
   "display_name": "Python 3",
   "language": "python",
   "name": "python3"
  },
  "language_info": {
   "codemirror_mode": {
    "name": "ipython",
    "version": 3
   },
   "file_extension": ".py",
   "mimetype": "text/x-python",
   "name": "python",
   "nbconvert_exporter": "python",
   "pygments_lexer": "ipython3",
   "version": "3.8.8"
  }
 },
 "nbformat": 4,
 "nbformat_minor": 4
}
